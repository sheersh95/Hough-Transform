{
 "cells": [
  {
   "cell_type": "code",
   "execution_count": 1,
   "metadata": {},
   "outputs": [],
   "source": [
    "import cv2\n",
    "import numpy as np\n",
    "import math"
   ]
  },
  {
   "cell_type": "code",
   "execution_count": 170,
   "metadata": {},
   "outputs": [],
   "source": [
    "img = cv2.imread(\"hough.jpg\",0)"
   ]
  },
  {
   "cell_type": "code",
   "execution_count": 211,
   "metadata": {},
   "outputs": [],
   "source": [
    "def Pad(img):\n",
    "    Ix=list()\n",
    "    for line in img:\n",
    "        line = list(line)\n",
    "        line.insert(0,0)        #Column padding to perform convolution\n",
    "        line.insert(len(line),0)\n",
    "        Ix.append(line)\n",
    "    Opx = list()\n",
    "    RowPad = [ 0 for i in range(len(Ix[0])) ] #Row padding to perform convolution\n",
    "    Opx.append(RowPad)\n",
    "    for i in Ix:\n",
    "        Opx.append(i)\n",
    "    Opx.append(RowPad)    \n",
    "    Opx = np.asarray(Opx)\n",
    "    return Opx"
   ]
  },
  {
   "cell_type": "code",
   "execution_count": 4,
   "metadata": {},
   "outputs": [],
   "source": [
    "N = img.shape[0]\n",
    "M = img.shape[1]\n",
    "Img_padx = Pad(img)  #Pad Image"
   ]
  },
  {
   "cell_type": "code",
   "execution_count": 5,
   "metadata": {},
   "outputs": [],
   "source": [
    "nx = [[1,0,-1],\n",
    "      [2,0,-2],\n",
    "      [1,0,-1]]  #Sobel X kernel\n",
    "\n",
    "for i in nx:\n",
    "        temp = i[0]\n",
    "        i[0] = i[2]\n",
    "        i[2] = temp"
   ]
  },
  {
   "cell_type": "code",
   "execution_count": 56,
   "metadata": {},
   "outputs": [],
   "source": [
    "sobelxImage = [[0]*M for i in range(N)]\n",
    "sobelxImage = np.asarray(sobelxImage)\n",
    "sobelyImage = [[0]*M for i in range(N)]\n",
    "sobelyImage = np.asarray(sobelyImage)\n",
    "    \n",
    "imagex = Img_padx\n",
    "for i in range(1,N):     # Loop over every pixel of the image\n",
    "    for j in range(1,M):\n",
    "        x = imagex[i-1:i+2,j-1:j+2]\n",
    "        result = [[a*b for a, b in zip(k, l)] for k, l in zip(x, nx)] #Element wise Multiplication\n",
    "        elex = 0\n",
    "        for row in result:\n",
    "            for ele in row: \n",
    "                elex = elex+ele  #Addition of the products to obtain value for that pixel\n",
    "        \n",
    "            sobelxImage[i-1][j-1] = elex    "
   ]
  },
  {
   "cell_type": "code",
   "execution_count": 57,
   "metadata": {},
   "outputs": [
    {
     "data": {
      "text/plain": [
       "True"
      ]
     },
     "execution_count": 57,
     "metadata": {},
     "output_type": "execute_result"
    }
   ],
   "source": [
    "cv2.imwrite(\"ConvX_image.png\",sobelxImage)"
   ]
  },
  {
   "cell_type": "code",
   "execution_count": 209,
   "metadata": {},
   "outputs": [],
   "source": [
    "def find_edges(img):  #Find the edges\n",
    "    eximg = np.zeros((img.shape[0],img.shape[1]))\n",
    "    for i in range(N):\n",
    "        for j in range(M):\n",
    "            if img[i,j] > 100:\n",
    "                eximg[i,j] = 255\n",
    "    return eximg            "
   ]
  },
  {
   "cell_type": "code",
   "execution_count": 210,
   "metadata": {},
   "outputs": [
    {
     "data": {
      "text/plain": [
       "True"
      ]
     },
     "execution_count": 210,
     "metadata": {},
     "output_type": "execute_result"
    }
   ],
   "source": [
    "edx = find_edges(sobelxImage)\n",
    "cv2.imwrite(\"edx.jpg\",edx)"
   ]
  },
  {
   "cell_type": "code",
   "execution_count": 61,
   "metadata": {},
   "outputs": [],
   "source": [
    "def find_rho(theta,x,y): #Find rho values\n",
    "    return int(round(x*math.cos(math.radians(theta))+y*math.sin(math.radians(theta))))+diaglen"
   ]
  },
  {
   "cell_type": "code",
   "execution_count": 62,
   "metadata": {},
   "outputs": [],
   "source": [
    "diaglen = int(math.sqrt((N*N) + (M*M))) \n",
    "accu = np.zeros((179,(2*diaglen)-1)) #Accumulator Matrix"
   ]
  },
  {
   "cell_type": "code",
   "execution_count": 63,
   "metadata": {},
   "outputs": [],
   "source": [
    "def cal_pixrho(x,y):  #Taking angles from -89 to 90 for a pixel value\n",
    "    rhoval = []\n",
    "    for i in range(-89,90):\n",
    "        rhoval.append(find_rho(i,x,y))\n",
    "    return rhoval    "
   ]
  },
  {
   "cell_type": "code",
   "execution_count": 64,
   "metadata": {},
   "outputs": [],
   "source": [
    "for i in range(N):   #Building Accumulator Matrix\n",
    "    for j in range(M):\n",
    "        if edx[i,j] == 255:\n",
    "            pixrho = cal_pixrho(i,j)\n",
    "            for k in range(179):\n",
    "                accu[k][pixrho[k]] = accu[k][pixrho[k]] + 1 \n",
    "        "
   ]
  },
  {
   "cell_type": "code",
   "execution_count": 91,
   "metadata": {},
   "outputs": [],
   "source": [
    "def max_indices(arr, k):   #Obtaining all the peak occurences\n",
    "    assert k <= arr.size, \n",
    "    arr_ = arr.astype(float)  \n",
    "    max_idxs = []\n",
    "    for _ in range(k):\n",
    "        max_element = np.max(arr_)\n",
    "        if np.isinf(max_element):\n",
    "            break\n",
    "        else:\n",
    "            idx = np.where(arr_ == max_element)\n",
    "        max_idxs.append(idx)\n",
    "        arr_[idx] = -np.inf\n",
    "    return np.asarray(max_idxs)"
   ]
  },
  {
   "cell_type": "code",
   "execution_count": 181,
   "metadata": {},
   "outputs": [],
   "source": [
    "k = []\n",
    "for i in range(lp.shape[0]):\n",
    "    n = lp[i][0].shape[0]\n",
    "    if n>1:\n",
    "        for j in range(n):\n",
    "            k.append([lp[i][0][j], lp[i][1][j]])\n",
    "    else:\n",
    "        k.append([lp[i][0][0], lp[i][1][0]])"
   ]
  },
  {
   "cell_type": "code",
   "execution_count": 182,
   "metadata": {},
   "outputs": [],
   "source": [
    "lp = max_indices(accu, 100)"
   ]
  },
  {
   "cell_type": "code",
   "execution_count": 183,
   "metadata": {},
   "outputs": [],
   "source": [
    "imgv = cv2.imread(\"hough.jpg\")      #Plotting vertical and horizontal lines\n",
    "imgd = cv2.imread(\"hough.jpg\")\n",
    "for t,r in k:\n",
    "    for i in range(N):\n",
    "        for j in range(M):\n",
    "            if edx[i,j] == 255:\n",
    "                brho = find_rho(t-89,i,j)\n",
    "                if brho == r:\n",
    "                    if t >= 0 and t<=5:\n",
    "                        imgv[i,j] = (0,255,0)\n",
    "                    elif t >=33 and t<=37:\n",
    "                        imgd[i,j] = (0,255,0)\n",
    "        "
   ]
  },
  {
   "cell_type": "code",
   "execution_count": 180,
   "metadata": {},
   "outputs": [
    {
     "data": {
      "text/plain": [
       "True"
      ]
     },
     "execution_count": 180,
     "metadata": {},
     "output_type": "execute_result"
    }
   ],
   "source": [
    "cv2.imwrite(\"red_line.jpg\",imgv)\n",
    "cv2.imwrite(\"blue_line.jpg\",imgd)"
   ]
  },
  {
   "cell_type": "code",
   "execution_count": 212,
   "metadata": {},
   "outputs": [
    {
     "data": {
      "text/plain": [
       "True"
      ]
     },
     "execution_count": 212,
     "metadata": {},
     "output_type": "execute_result"
    }
   ],
   "source": [
    "cv2.imwrite(\"accu.jpg\",accu)"
   ]
  },
  {
   "cell_type": "code",
   "execution_count": null,
   "metadata": {},
   "outputs": [],
   "source": []
  }
 ],
 "metadata": {
  "kernelspec": {
   "display_name": "Python 3",
   "language": "python",
   "name": "python3"
  },
  "language_info": {
   "codemirror_mode": {
    "name": "ipython",
    "version": 3
   },
   "file_extension": ".py",
   "mimetype": "text/x-python",
   "name": "python",
   "nbconvert_exporter": "python",
   "pygments_lexer": "ipython3",
   "version": "3.6.5"
  }
 },
 "nbformat": 4,
 "nbformat_minor": 2
}
