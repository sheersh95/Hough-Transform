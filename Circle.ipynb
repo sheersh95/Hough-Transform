{
 "cells": [
  {
   "cell_type": "code",
   "execution_count": 1,
   "metadata": {},
   "outputs": [],
   "source": [
    "import cv2\n",
    "import numpy as np\n",
    "import math"
   ]
  },
  {
   "cell_type": "code",
   "execution_count": 110,
   "metadata": {},
   "outputs": [],
   "source": [
    "imgc = cv2.imread(\"hough.jpg\")\n",
    "gim = cv2.imread(\"hough.jpg\",0)"
   ]
  },
  {
   "cell_type": "code",
   "execution_count": 3,
   "metadata": {},
   "outputs": [],
   "source": [
    "def Pad(img):\n",
    "    Ix=list()\n",
    "    for line in img:\n",
    "        line = list(line)\n",
    "        line.insert(0,0)        #Column padding to perform convolution\n",
    "        line.insert(len(line),0)\n",
    "        Ix.append(line)\n",
    "    Opx = list()\n",
    "    RowPad = [ 0 for i in range(len(Ix[0])) ] #Row padding to perform convolution\n",
    "    Opx.append(RowPad)\n",
    "    for i in Ix:\n",
    "        Opx.append(i)\n",
    "    Opx.append(RowPad)    \n",
    "    Opx = np.asarray(Opx)\n",
    "    return Opx"
   ]
  },
  {
   "cell_type": "code",
   "execution_count": 4,
   "metadata": {},
   "outputs": [],
   "source": [
    "N = gim.shape[0]\n",
    "M = gim.shape[1]\n",
    "Img_padx = Pad(gim)  #Pad Image\n",
    "Img_pady = Img_padx"
   ]
  },
  {
   "cell_type": "code",
   "execution_count": 5,
   "metadata": {},
   "outputs": [],
   "source": [
    "nx = [[1,0,-1],\n",
    "      [2,0,-2],\n",
    "      [1,0,-1]]  #Sobel X kernel\n",
    "\n",
    "ny = [[1,2,1],\n",
    "      [0,0,0],\n",
    "      [-1,-2,-1]] #Sobel Y kernel\n",
    "#Flip both kernels horizontally and vertically \n",
    "for i in nx:\n",
    "        temp = i[0]\n",
    "        i[0] = i[2]\n",
    "        i[2] = temp\n",
    "        \n",
    "temp = ny[0]\n",
    "ny[0] = ny[2]\n",
    "ny[2] = temp"
   ]
  },
  {
   "cell_type": "code",
   "execution_count": 6,
   "metadata": {},
   "outputs": [],
   "source": [
    "sobelxImage = [[0]*M for i in range(N)]\n",
    "sobelxImage = np.asarray(sobelxImage)\n",
    "sobelyImage = [[0]*M for i in range(N)]\n",
    "sobelyImage = np.asarray(sobelyImage)\n",
    "    \n",
    "imagex = Img_padx\n",
    "for i in range(1,N):     # Loop over every pixel of the image\n",
    "    for j in range(1,M):\n",
    "        x = imagex[i-1:i+2,j-1:j+2]\n",
    "        result = [[a*b for a, b in zip(k, l)] for k, l in zip(x, nx)] #Element wise Multiplication\n",
    "        elex = 0\n",
    "        for row in result:\n",
    "            for ele in row: \n",
    "                elex = elex+ele  #Addition of the products to obtain value for that pixel\n",
    "        \n",
    "            sobelxImage[i-1][j-1] = elex    \n",
    "            \n",
    "        imagey = Img_pady\n",
    "        y = imagey[i-1:i+2,j-1:j+2]\n",
    "        result = [[a*b for a, b in zip(k, l)] for k, l in zip(y, ny)] #Element wise Multiplication\n",
    "        eley = 0\n",
    "        for row in result:\n",
    "            for ele in row: \n",
    "                eley = eley+ele  #Addition of the products to obtain value for that pixel\n",
    "        sobelyImage[i-1][j-1] = eley"
   ]
  },
  {
   "cell_type": "code",
   "execution_count": null,
   "metadata": {},
   "outputs": [],
   "source": [
    "cv2.imwrite(\"ConvX_image.png\",sobelxImage)"
   ]
  },
  {
   "cell_type": "code",
   "execution_count": 7,
   "metadata": {},
   "outputs": [],
   "source": [
    "def Normalize(Img_conv): #Function to normalize the image to remove negative values and have the values between 0 and 1.\n",
    "    Opx_norm = Img_conv\n",
    "    maxval = 0\n",
    "    for i in Img_conv:\n",
    "        for j in i:\n",
    "            if maxval<abs(j):\n",
    "                maxval = j\n",
    "    print(maxval)\n",
    "    for i in range(0,Img_conv.shape[0]):\n",
    "        for j in range(0,Img_conv.shape[1]):\n",
    "            Opx_norm[i][j] =  abs(Img_conv[i][j])*255/abs(maxval)\n",
    "    return Opx_norm"
   ]
  },
  {
   "cell_type": "code",
   "execution_count": 8,
   "metadata": {},
   "outputs": [
    {
     "name": "stdout",
     "output_type": "stream",
     "text": [
      "751\n",
      "719\n"
     ]
    }
   ],
   "source": [
    "Norx = Normalize(sobelyImage)\n",
    "Nory = Normalize(sobelxImage)"
   ]
  },
  {
   "cell_type": "code",
   "execution_count": 17,
   "metadata": {},
   "outputs": [],
   "source": [
    "def find_edges(img):\n",
    "    eximg = np.zeros((img.shape[0],img.shape[1]))\n",
    "    for i in range(N):\n",
    "        for j in range(M):\n",
    "            if img[i,j] > 50:\n",
    "                eximg[i,j] = 255\n",
    "    return eximg            "
   ]
  },
  {
   "cell_type": "code",
   "execution_count": 18,
   "metadata": {},
   "outputs": [
    {
     "data": {
      "text/plain": [
       "True"
      ]
     },
     "execution_count": 18,
     "metadata": {},
     "output_type": "execute_result"
    }
   ],
   "source": [
    "edx = find_edges(Norx)\n",
    "edy = find_edges(Nory)\n",
    "ed = edx + edy"
   ]
  },
  {
   "cell_type": "code",
   "execution_count": 96,
   "metadata": {},
   "outputs": [],
   "source": [
    "def find_cirpoint(theta,x,y):  #Calculate centre\n",
    "    a = int(y - R * math.cos(math.radians(theta)))\n",
    "    b = int(x - R * math.sin(math.radians(theta)))\n",
    "    return a,b\n",
    "    "
   ]
  },
  {
   "cell_type": "code",
   "execution_count": 97,
   "metadata": {},
   "outputs": [],
   "source": [
    "def cal_circle(x,y): #Draw circle for each pixel value\n",
    "    newcen = []\n",
    "    for i in range(0,360):\n",
    "        d,f = find_cirpoint(i,x,y)\n",
    "        newcen.append([d,f])\n",
    "    return newcen   "
   ]
  },
  {
   "cell_type": "code",
   "execution_count": 98,
   "metadata": {},
   "outputs": [],
   "source": [
    "R = 22  #Radius\n",
    "accu = np.zeros((2*N,2*M)) #Accumulator Matrix"
   ]
  },
  {
   "cell_type": "code",
   "execution_count": 99,
   "metadata": {},
   "outputs": [],
   "source": [
    "for i in range(N):   #Building Accumulator Matrix\n",
    "    for j in range(M):\n",
    "        if ed[i,j] == 255:\n",
    "            pixcen = cal_circle(i,j)\n",
    "            for k in range(len(pixcen)):\n",
    "                accu[pixcen[k][0],pixcen[k][1]] = accu[pixcen[k][0],pixcen[k][1]] + 1 "
   ]
  },
  {
   "cell_type": "code",
   "execution_count": 100,
   "metadata": {},
   "outputs": [],
   "source": [
    "def max_indices(arr, k):  #Get Peak Occurences\n",
    "    assert k <= arr.size,'k should be smaller or equal to the array size' \n",
    "    arr_ = arr.astype(float)  \n",
    "    max_idxs = []\n",
    "    for _ in range(k):\n",
    "        max_element = np.max(arr_)\n",
    "        if np.isinf(max_element):\n",
    "            break\n",
    "        else:\n",
    "            idx = np.where(arr_ == max_element)\n",
    "        max_idxs.append(idx)\n",
    "        arr_[idx] = -np.inf\n",
    "    return np.asarray(max_idxs)"
   ]
  },
  {
   "cell_type": "code",
   "execution_count": 111,
   "metadata": {},
   "outputs": [],
   "source": [
    "lp = max_indices(accu,40)"
   ]
  },
  {
   "cell_type": "code",
   "execution_count": 112,
   "metadata": {},
   "outputs": [],
   "source": [
    "peaks = []\n",
    "for i in range(lp.shape[0]):\n",
    "    n = lp[i][0].shape[0]\n",
    "    if n>1:\n",
    "        for j in range(n):\n",
    "            peaks.append([lp[i][0][j], lp[i][1][j]])\n",
    "    else:\n",
    "        peaks.append([lp[i][0][0], lp[i][1][0]])"
   ]
  },
  {
   "cell_type": "code",
   "execution_count": 113,
   "metadata": {},
   "outputs": [],
   "source": [
    "for i,j in peaks: #Plot Circles for coins\n",
    "    imgc = cv2.circle(imgc,(i,j),R,(0,255,0))"
   ]
  },
  {
   "cell_type": "code",
   "execution_count": 114,
   "metadata": {},
   "outputs": [
    {
     "data": {
      "text/plain": [
       "True"
      ]
     },
     "execution_count": 114,
     "metadata": {},
     "output_type": "execute_result"
    }
   ],
   "source": [
    "cv2.imwrite(\"coin.jpg\",imgc)"
   ]
  },
  {
   "cell_type": "code",
   "execution_count": 117,
   "metadata": {},
   "outputs": [
    {
     "data": {
      "text/plain": [
       "True"
      ]
     },
     "execution_count": 117,
     "metadata": {},
     "output_type": "execute_result"
    }
   ],
   "source": [
    "cv2.imwrite(\"accub.jpg\",accu)"
   ]
  },
  {
   "cell_type": "code",
   "execution_count": null,
   "metadata": {},
   "outputs": [],
   "source": []
  }
 ],
 "metadata": {
  "kernelspec": {
   "display_name": "Python 3",
   "language": "python",
   "name": "python3"
  },
  "language_info": {
   "codemirror_mode": {
    "name": "ipython",
    "version": 3
   },
   "file_extension": ".py",
   "mimetype": "text/x-python",
   "name": "python",
   "nbconvert_exporter": "python",
   "pygments_lexer": "ipython3",
   "version": "3.6.5"
  }
 },
 "nbformat": 4,
 "nbformat_minor": 2
}
